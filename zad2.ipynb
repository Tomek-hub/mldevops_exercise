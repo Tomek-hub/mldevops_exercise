{
 "cells": [
  {
   "cell_type": "code",
   "execution_count": 1,
   "metadata": {},
   "outputs": [],
   "source": [
    "import torch\n",
    "import torch.nn as nn\n",
    "import torch.optim as optim\n",
    "from torchvision import datasets, transforms\n",
    "from torch.utils.data import DataLoader\n",
    "\n",
    "# Check if GPU is available\n",
    "device = torch.device(\"cuda\" if torch.cuda.is_available() else \"cpu\")\n",
    "\n",
    "# Transform for dataset - Normalizing with mean and std of Fashion MNIST\n",
    "transform = transforms.Compose([\n",
    "    transforms.ToTensor(),\n",
    "    transforms.Normalize((0.5,), (0.5,))  # Normalize to [-1, 1] for grayscale\n",
    "])\n",
    "\n",
    "# Download and load the training and test data\n",
    "train_dataset = datasets.FashionMNIST(root='./data', train=True, download=True, transform=transform)\n",
    "test_dataset = datasets.FashionMNIST(root='./data', train=False, download=True, transform=transform)\n",
    "\n",
    "train_loader = DataLoader(train_dataset, batch_size=64, shuffle=True)\n",
    "test_loader = DataLoader(test_dataset, batch_size=64, shuffle=False)\n"
   ]
  },
  {
   "cell_type": "code",
   "execution_count": 2,
   "metadata": {},
   "outputs": [],
   "source": [
    "class Autoencoder(nn.Module):\n",
    "    def __init__(self):\n",
    "        super(Autoencoder, self).__init__()\n",
    "        # Encoder\n",
    "        self.encoder = nn.Sequential(\n",
    "            nn.Linear(28 * 28, 128),\n",
    "            nn.ReLU(),\n",
    "            nn.Linear(128, 64),\n",
    "            nn.ReLU(),\n",
    "            nn.Linear(64, 32),\n",
    "            nn.ReLU()\n",
    "        )\n",
    "        \n",
    "        # Decoder\n",
    "        self.decoder = nn.Sequential(\n",
    "            nn.Linear(32, 64),\n",
    "            nn.ReLU(),\n",
    "            nn.Linear(64, 128),\n",
    "            nn.ReLU(),\n",
    "            nn.Linear(128, 28 * 28),\n",
    "            nn.Tanh()  # Output is normalized to [-1, 1] matching the normalized input\n",
    "        )\n",
    "    \n",
    "    def forward(self, x):\n",
    "        x = x.view(-1, 28 * 28)  # Flatten the input\n",
    "        x = self.encoder(x)\n",
    "        x = self.decoder(x)\n",
    "        x = x.view(-1, 1, 28, 28)  # Reshape back to image dimensions\n",
    "        return x\n",
    "\n",
    "# Instantiate the model, define the loss function and the optimizer\n",
    "model = Autoencoder().to(device)\n",
    "criterion = nn.MSELoss()  # Mean Squared Error Loss\n",
    "optimizer = optim.Adam(model.parameters(), lr=0.001)\n"
   ]
  },
  {
   "cell_type": "code",
   "execution_count": 3,
   "metadata": {},
   "outputs": [
    {
     "name": "stdout",
     "output_type": "stream",
     "text": [
      "Epoch 1/10, Train Loss: 0.1106, Test Loss: 0.0756\n",
      "Epoch 2/10, Train Loss: 0.0689, Test Loss: 0.0640\n",
      "Epoch 3/10, Train Loss: 0.0605, Test Loss: 0.0579\n",
      "Epoch 4/10, Train Loss: 0.0557, Test Loss: 0.0544\n",
      "Epoch 5/10, Train Loss: 0.0526, Test Loss: 0.0518\n",
      "Epoch 6/10, Train Loss: 0.0504, Test Loss: 0.0504\n",
      "Epoch 7/10, Train Loss: 0.0489, Test Loss: 0.0492\n",
      "Epoch 8/10, Train Loss: 0.0476, Test Loss: 0.0477\n",
      "Epoch 9/10, Train Loss: 0.0465, Test Loss: 0.0471\n",
      "Epoch 10/10, Train Loss: 0.0456, Test Loss: 0.0464\n"
     ]
    }
   ],
   "source": [
    "# Training function\n",
    "def train_autoencoder(model, train_loader, criterion, optimizer, device):\n",
    "    model.train()\n",
    "    running_loss = 0\n",
    "    for images, _ in train_loader:\n",
    "        images = images.to(device)\n",
    "        \n",
    "        # Zero the gradients\n",
    "        optimizer.zero_grad()\n",
    "        \n",
    "        # Forward pass\n",
    "        outputs = model(images)\n",
    "        loss = criterion(outputs, images)\n",
    "        \n",
    "        # Backward pass and optimization\n",
    "        loss.backward()\n",
    "        optimizer.step()\n",
    "        \n",
    "        running_loss += loss.item()\n",
    "    \n",
    "    return running_loss / len(train_loader)\n",
    "\n",
    "# Testing function (to calculate the reconstruction loss on the test set)\n",
    "def test_autoencoder(model, test_loader, criterion, device):\n",
    "    model.eval()\n",
    "    test_loss = 0\n",
    "    with torch.no_grad():\n",
    "        for images, _ in test_loader:\n",
    "            images = images.to(device)\n",
    "            outputs = model(images)\n",
    "            loss = criterion(outputs, images)\n",
    "            test_loss += loss.item()\n",
    "    \n",
    "    return test_loss / len(test_loader)\n",
    "\n",
    "# Training loop\n",
    "num_epochs = 10\n",
    "for epoch in range(num_epochs):\n",
    "    train_loss = train_autoencoder(model, train_loader, criterion, optimizer, device)\n",
    "    test_loss = test_autoencoder(model, test_loader, criterion, device)\n",
    "    print(f'Epoch {epoch + 1}/{num_epochs}, Train Loss: {train_loss:.4f}, Test Loss: {test_loss:.4f}')\n"
   ]
  },
  {
   "cell_type": "code",
   "execution_count": 6,
   "metadata": {},
   "outputs": [
    {
     "name": "stderr",
     "output_type": "stream",
     "text": [
      "Matplotlib is building the font cache; this may take a moment.\n"
     ]
    },
    {
     "data": {
      "image/png": "[encoded data removed]",
      "text/plain": [
       "<Figure size 1500x300 with 20 Axes>"
      ]
     },
     "metadata": {},
     "output_type": "display_data"
    }
   ],
   "source": [
    "import matplotlib.pyplot as plt\n",
    "\n",
    "# Function to display a few original and reconstructed images\n",
    "def visualize_reconstructions(model, data_loader, device, n=10):\n",
    "    model.eval()\n",
    "    with torch.no_grad():\n",
    "        for images, _ in data_loader:\n",
    "            images = images.to(device)\n",
    "            outputs = model(images)\n",
    "            break  # Take only the first batch\n",
    "\n",
    "    images = images.cpu().numpy()\n",
    "    outputs = outputs.cpu().numpy()\n",
    "    \n",
    "    # Plot original and reconstructed images\n",
    "    fig, axes = plt.subplots(2, n, figsize=(15, 3))\n",
    "    for i in range(n):\n",
    "        # Original images\n",
    "        axes[0, i].imshow(images[i].squeeze(), cmap='gray')\n",
    "        axes[0, i].axis('off')\n",
    "        \n",
    "        # Reconstructed images\n",
    "        axes[1, i].imshow(outputs[i].squeeze(), cmap='gray')\n",
    "        axes[1, i].axis('off')\n",
    "    \n",
    "    plt.show()\n",
    "\n",
    "# Visualize the reconstructions\n",
    "visualize_reconstructions(model, test_loader, device)\n"
   ]
  }
 ],
 "metadata": {
  "kernelspec": {
   "display_name": ".venv",
   "language": "python",
   "name": "python3"
  },
  "language_info": {
   "codemirror_mode": {
    "name": "ipython",
    "version": 3
   },
   "file_extension": ".py",
   "mimetype": "text/x-python",
   "name": "python",
   "nbconvert_exporter": "python",
   "pygments_lexer": "ipython3",
   "version": "3.12.3"
  }
 },
 "nbformat": 4,
 "nbformat_minor": 2
}
